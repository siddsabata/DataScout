{
 "cells": [
  {
   "cell_type": "code",
   "execution_count": 7,
   "metadata": {},
   "outputs": [],
   "source": [
    "import os\n",
    "import requests\n",
    "import csv\n",
    "from apify_client import ApifyClient\n",
    "from dotenv import load_dotenv\n",
    "from langchain_openai import ChatOpenAI\n",
    "from langchain.text_splitter import RecursiveCharacterTextSplitter\n",
    "from langchain_community.vectorstores import FAISS\n",
    "from langchain_openai import OpenAIEmbeddings\n",
    "from langchain_core.messages import HumanMessage\n",
    "\n",
    "# Load .env variables and initialize apifyclient with API token\n",
    "load_dotenv('.env')\n",
    "APIFY_API_KEY = os.getenv('APIFY_API_TOKEN')"
   ]
  },
  {
   "cell_type": "code",
   "execution_count": null,
   "metadata": {},
   "outputs": [],
   "source": [
    "llm = ChatOpenAI(model = \"gpt-3.5\" , temperature=0)\n",
    "\n",
    "QUERY_PROMPT = PromptTemplate(\n",
    "    input_variables=[\"question\"],\n",
    "    template=\"\"\"You are an AI language model assistant. Your task is to generate five \n",
    "    different versions of the given user question to retrieve relevant documents from a vector \n",
    "    database. By generating multiple perspectives on the user question, your goal is to help\n",
    "    the user overcome some of the limitations of the distance-based similarity search. \n",
    "    Provide these alternative questions separated by newlines.\n",
    "    Original question: {question}\"\"\",\n",
    ")\n",
    "# Chain\n",
    "llm_chain = LLMChain(llm=llm, prompt=QUERY_PROMPT, output_parser=output_parser)\n",
    "\n",
    "# Other inputs\n",
    "question = \"What are the approaches to Task Decomposition?\""
   ]
  },
  {
   "cell_type": "code",
   "execution_count": 3,
   "metadata": {},
   "outputs": [
    {
     "name": "stdout",
     "output_type": "stream",
     "text": [
      "{'url': 'https://en.wikipedia.org/wiki/Cahn%E2%80%93Hilliard_equation', 'crawl': {'loadedUrl': 'https://en.wikipedia.org/wiki/Cahn%E2%80%93Hilliard_equation', 'loadedTime': '2024-03-08T02:57:07.431Z', 'referrerUrl': 'https://en.wikipedia.org/wiki/Cahn%E2%80%93Hilliard_equation', 'depth': 0, 'httpStatusCode': 200}, 'metadata': {'canonicalUrl': 'https://en.wikipedia.org/wiki/Cahn%E2%80%93Hilliard_equation', 'title': 'Cahn–Hilliard equation - Wikipedia', 'description': None, 'author': None, 'keywords': None, 'languageCode': 'en', 'openGraph': [{'property': 'og:title', 'content': 'Cahn–Hilliard equation - Wikipedia'}, {'property': 'og:type', 'content': 'website'}], 'jsonLd': [{'@context': 'https://schema.org', '@type': 'Article', 'name': 'Cahn–Hilliard equation', 'url': 'https://en.wikipedia.org/wiki/Cahn%E2%80%93Hilliard_equation', 'sameAs': 'http://www.wikidata.org/entity/Q5017440', 'mainEntity': 'http://www.wikidata.org/entity/Q5017440', 'author': {'@type': 'Organization', 'name': 'Contributors to Wikimedia projects'}, 'publisher': {'@type': 'Organization', 'name': 'Wikimedia Foundation, Inc.', 'logo': {'@type': 'ImageObject', 'url': 'https://www.wikimedia.org/static/images/wmf-hor-googpub.png'}}, 'datePublished': '2007-01-24T11:31:42Z', 'dateModified': '2023-03-07T12:19:32Z'}]}, 'screenshotUrl': None, 'text': 'From Wikipedia, the free encyclopedia\\nThe Cahn–Hilliard equation (after John W. Cahn and John E. Hilliard)[1] is an equation of mathematical physics which describes the process of phase separation, by which the two components of a binary fluid spontaneously separate and form domains pure in each component. If is the concentration of the fluid, with indicating domains, then the equation is written as \\nwhere is a diffusion coefficient with units of and gives the length of the transition regions between the domains. Here is the partial time derivative and is the Laplacian in dimensions. Additionally, the quantity is identified as a chemical potential. \\nRelated to it is the Allen–Cahn equation, as well as the stochastic Cahn–Hilliard Equation and the stochastic Allen–Cahn equation. \\nFeatures and applications[edit]\\nOf interest to mathematicians is the existence of a unique solution of the Cahn–Hilliard equation, given by smooth initial data. The proof relies essentially on the existence of a Lyapunov functional. Specifically, if we identify \\nas a free energy functional, then \\nso that the free energy does not grow in time. This also indicates segregation into domains is the asymptotic outcome of the evolution of this equation. \\nIn real experiments, the segregation of an initially mixed binary fluid into domains is observed. The segregation is characterized by the following facts. \\nEvolution of random initial data under the Cahn–Hilliard equation with and (equal amounts of each phase), demonstrating phase separation. \\nThere is a transition layer between the segregated domains, with a profile given by the function and hence a typical width because this function is an equilibrium solution of the Cahn–Hilliard equation.\\nOf interest also is the fact that the segregated domains grow in time as a power law. That is, if is a typical domain size, then . This is the Lifshitz–Slyozov law, and has been proved rigorously for the Cahn–Hilliard equation and observed in numerical simulations and real experiments on binary fluids.\\nThe Cahn–Hilliard equation has the form of a conservation law, with . Thus the phase separation process conserves the total concentration , so that .\\nEvolution of random initial data with and (60/40 mix of the blue and red phases, respectively), demonstrating Ostwald ripeningWhen one phase is significantly more abundant, the Cahn–Hilliard equation can show the phenomenon known as Ostwald ripening, where the minority phase forms spherical droplets, and the smaller droplets are absorbed through diffusion into the larger ones.\\nThe Cahn–Hilliard equations finds applications in diverse fields: in complex fluids and soft matter (interfacial fluid flow, polymer science and in industrial applications). The solution of the Cahn–Hilliard equation for a binary mixture demonstrated to coincide well with the solution of a Stefan problem and the model of Thomas and Windle.[2] Of interest to researchers at present is the coupling of the phase separation of the Cahn–Hilliard equation to the Navier–Stokes equations of fluid flow. \\nSee also[edit]\\nAllen–Cahn equation\\nSpinodal decomposition\\nFurther reading[edit]\\nCahn, John W.; Hilliard, John E. (1958). \"Free Energy of a Nonuniform System. I. Interfacial Free Energy\". The Journal of Chemical Physics. AIP Publishing. 28 (2): 258–267. Bibcode:1958JChPh..28..258C. doi:10.1063/1.1744102. ISSN 0021-9606.\\nBray, A.J. (1994). \"Theory of phase-ordering kinetics\". Advances in Physics. 43 (3): 357–459. arXiv:cond-mat/9501089. Bibcode:1994AdPhy..43..357B. doi:10.1080/00018739400101505. ISSN 0001-8732. S2CID 83182.\\nZhu, Jingzhi; Chen, Long-Qing; Shen, Jie; Tikare, Veena (1999-10-01). \"Coarsening kinetics from a variable-mobility Cahn-Hilliard equation: Application of a semi-implicit Fourier spectral method\". Physical Review E. American Physical Society (APS). 60 (4): 3564–3572. Bibcode:1999PhRvE..60.3564Z. doi:10.1103/physreve.60.3564. ISSN 1063-651X. PMID 11970189.\\nElliott, Charles M.; Songmu, Zheng (1986). \"On the Cahn-Hilliard equation\". Archive for Rational Mechanics and Analysis. Springer Nature. 96 (4): 339–357. Bibcode:1986ArRMA..96..339E. doi:10.1007/bf00251803. ISSN 0003-9527. S2CID 56206640.\\nAreias, P.; Samaniego, E.; Rabczuk, T. (2015-12-17). \"A staggered approach for the coupling of Cahn–Hilliard type diffusion and finite strain elasticity\". Computational Mechanics. Springer Science and Business Media LLC. 57 (2): 339–351. doi:10.1007/s00466-015-1235-1. ISSN 0178-7675. S2CID 123982946.\\nHashimoto, Takeji; Matsuzaka, Katsuo; Moses, Elisha; Onuki, Akira (1995-01-02). \"String Phase in Phase-Separating Fluids under Shear Flow\". Physical Review Letters. American Physical Society (APS). 74 (1): 126–129. Bibcode:1995PhRvL..74..126H. doi:10.1103/physrevlett.74.126. ISSN 0031-9007. PMID 10057715.\\nT. Ursell, “Cahn–Hilliard Kinetics and Spinodal Decomposition in a Diffuse System,” California Institute of Technology (2007).\\nReferences[edit]\\n^ Cahn, John W.; Hilliard, John E. (February 1958). \"Free Energy of a Nonuniform System. I. Interfacial Free Energy\". The Journal of Chemical Physics. 28 (2): 258–267. Bibcode:1958JChPh..28..258C. doi:10.1063/1.1744102. ISSN 0021-9606. \\n^ Vermolen, F. J.; Gharasoo, M. G.; Zitha, P. L. J.; Bruining, J. (2009). \"Numerical Solutions of Some Diffuse Interface Problems: The Cahn–Hilliard Equation and the Model of Thomas and Windle\". International Journal for Multiscale Computational Engineering. 7 (6): 523–543. doi:10.1615/IntJMultCompEng.v7.i6.40.', 'markdown': 'From Wikipedia, the free encyclopedia\\n\\nThe **Cahn–Hilliard equation** (after [John W. Cahn](https://en.wikipedia.org/wiki/John_W._Cahn \"John W. Cahn\") and [John E. Hilliard](https://en.wikipedia.org/w/index.php?title=John_E._Hilliard&action=edit&redlink=1 \"John E. Hilliard (page does not exist)\"))[\\\\[1\\\\]](#cite_note-1) is an [equation](https://en.wikipedia.org/wiki/Equation \"Equation\") of [mathematical physics](https://en.wikipedia.org/wiki/Mathematical_physics \"Mathematical physics\") which describes the process of [phase](https://en.wikipedia.org/wiki/Phase_(matter) \"Phase (matter)\") separation, by which the two components of a binary fluid spontaneously separate and form domains pure in each component. If ![{\\\\displaystyle c}](https://wikimedia.org/api/rest_v1/media/math/render/svg/86a67b81c2de995bd608d5b2df50cd8cd7d92455) is the concentration of the fluid, with ![{\\\\displaystyle c=\\\\pm 1}](https://wikimedia.org/api/rest_v1/media/math/render/svg/cf5f2e1fb1c0a54282f2e1ee02301cccc95e82e9) indicating domains, then the equation is written as\\n\\n![{\\\\displaystyle {\\\\frac {\\\\partial c}{\\\\partial t}}=D\\\\nabla ^{2}\\\\left(c^{3}-c-\\\\gamma \\\\nabla ^{2}c\\\\right),}](https://wikimedia.org/api/rest_v1/media/math/render/svg/b7a860f6b6857c5eefafb72a81c8fc1d25964edc)\\n\\nwhere ![{\\\\displaystyle D}](https://wikimedia.org/api/rest_v1/media/math/render/svg/f34a0c600395e5d4345287e21fb26efd386990e6) is a [diffusion](https://en.wikipedia.org/wiki/Diffusion \"Diffusion\") coefficient with units of ![{\\\\displaystyle {\\\\text{Length}}^{2}/{\\\\text{Time}}}](https://wikimedia.org/api/rest_v1/media/math/render/svg/3bb33acd1d944983e4e5e0f580250db725776a79) and ![{\\\\displaystyle {\\\\sqrt {\\\\gamma }}}](https://wikimedia.org/api/rest_v1/media/math/render/svg/7a6b1d2df90a99119a720bc58364442839fb7425) gives the length of the transition regions between the domains. Here ![{\\\\displaystyle \\\\partial /{\\\\partial t}}](https://wikimedia.org/api/rest_v1/media/math/render/svg/630620637e1cba0a578fc3c614c54ec27787c341) is the partial time derivative and ![{\\\\displaystyle \\\\nabla ^{2}}](https://wikimedia.org/api/rest_v1/media/math/render/svg/f4be87ad083e5ead48d92b0c82f2d4e719cb34a6) is the [Laplacian](https://en.wikipedia.org/wiki/Laplacian \"Laplacian\") in ![{\\\\displaystyle n}](https://wikimedia.org/api/rest_v1/media/math/render/svg/a601995d55609f2d9f5e233e36fbe9ea26011b3b) dimensions. Additionally, the quantity ![{\\\\displaystyle \\\\mu =c^{3}-c-\\\\gamma \\\\nabla ^{2}c}](https://wikimedia.org/api/rest_v1/media/math/render/svg/33fb8e054546922a3744f5244f98a2868088c204) is identified as a [chemical potential](https://en.wikipedia.org/wiki/Chemical_potential \"Chemical potential\").\\n\\nRelated to it is the [Allen–Cahn equation](https://en.wikipedia.org/wiki/Allen%E2%80%93Cahn_equation \"Allen–Cahn equation\"), as well as the stochastic Cahn–Hilliard Equation and the stochastic Allen–Cahn equation.\\n\\n## Features and applications\\\\[[edit](https://en.wikipedia.org/w/index.php?title=Cahn%E2%80%93Hilliard_equation&action=edit&section=1 \"Edit section: Features and applications\")\\\\]\\n\\nOf interest to mathematicians is the existence of a unique solution of the Cahn–Hilliard equation, given by smooth initial data. The proof relies essentially on the existence of a [Lyapunov functional](https://en.wikipedia.org/wiki/Lyapunov_function \"Lyapunov function\"). Specifically, if we identify\\n\\n![{\\\\displaystyle F[c]=\\\\int d^{n}x\\\\left[{\\\\frac {1}{4}}\\\\left(c^{2}-1\\\\right)^{2}+{\\\\frac {\\\\gamma }{2}}\\\\left|\\\\nabla c\\\\right|^{2}\\\\right],}](https://wikimedia.org/api/rest_v1/media/math/render/svg/bda58e750b5c8281ab9baa2d3ada9b7fd029a812)\\n\\nas a free energy functional, then\\n\\n![{\\\\displaystyle {\\\\frac {dF}{dt}}=-\\\\int d^{n}x\\\\left|\\\\nabla \\\\mu \\\\right|^{2},}](https://wikimedia.org/api/rest_v1/media/math/render/svg/5ff2edfcd32ea8e4154783b0f72b1ee0099ee9d9)\\n\\nso that the free energy does not grow in time. This also indicates segregation into domains is the [asymptotic](https://en.wikipedia.org/wiki/Asymptotic \"Asymptotic\") outcome of the evolution of this equation.\\n\\nIn real experiments, the segregation of an initially mixed binary fluid into domains is observed. The segregation is characterized by the following facts.\\n\\n[![](https://upload.wikimedia.org/wikipedia/commons/thumb/8/8f/CahnHilliard_g0.5.gif/320px-CahnHilliard_g0.5.gif)](https://en.wikipedia.org/wiki/File:CahnHilliard_g0.5.gif)\\n\\nEvolution of random initial data under the Cahn–Hilliard equation with ![{\\\\displaystyle \\\\gamma =0.5}](https://wikimedia.org/api/rest_v1/media/math/render/svg/4e119c17e92ec9fe2b3a23dadf74c1133834d263) and ![{\\\\displaystyle C=0}](https://wikimedia.org/api/rest_v1/media/math/render/svg/f750a7094a396d89a81974cdf35783db2bb287b0) (equal amounts of each phase), demonstrating phase separation.\\n\\n*   There is a transition layer between the segregated domains, with a profile given by the function ![{\\\\displaystyle c(x)=\\\\tanh \\\\left({\\\\frac {x}{\\\\sqrt {2\\\\gamma }}}\\\\right),}](https://wikimedia.org/api/rest_v1/media/math/render/svg/e1f86fba1c3552d749b6da35f4cd943dcbca24c9) and hence a typical width ![{\\\\displaystyle {\\\\sqrt {\\\\gamma }}}](https://wikimedia.org/api/rest_v1/media/math/render/svg/7a6b1d2df90a99119a720bc58364442839fb7425) because this function is an equilibrium solution of the Cahn–Hilliard equation.\\n*   Of interest also is the fact that the segregated domains grow in time as a power law. That is, if ![{\\\\displaystyle L(t)}](https://wikimedia.org/api/rest_v1/media/math/render/svg/8db1ab667b7327d5df3aa6f10c853cf3557acf87) is a typical domain size, then ![{\\\\displaystyle L(t)\\\\propto t^{1/3}}](https://wikimedia.org/api/rest_v1/media/math/render/svg/d6e25b297addfb22c26756a983eef462058c6fe3). This is the Lifshitz–Slyozov law, and has been proved rigorously for the Cahn–Hilliard equation and observed in numerical simulations and real experiments on binary fluids.\\n*   The Cahn–Hilliard equation has the form of a conservation law, ![{\\\\displaystyle {\\\\frac {\\\\partial c}{\\\\partial t}}=-\\\\nabla \\\\cdot \\\\mathbf {j} (x),}](https://wikimedia.org/api/rest_v1/media/math/render/svg/e8f9a598dd71cdcb9a00e66da3458ee6b6e3c3d9) with ![{\\\\displaystyle \\\\mathbf {j} (x)=-D\\\\nabla \\\\mu }](https://wikimedia.org/api/rest_v1/media/math/render/svg/2d97697320d81b0bb90c1b48e703f0d46e08dcf3). Thus the phase separation process conserves the total concentration ![{\\\\displaystyle C=\\\\int d^{n}xc\\\\left(x,t\\\\right)}](https://wikimedia.org/api/rest_v1/media/math/render/svg/6272dd1080e4e12be39f9831e51bc92ec494bbfe), so that ![{\\\\displaystyle {\\\\frac {dC}{dt}}=0}](https://wikimedia.org/api/rest_v1/media/math/render/svg/9c39aee898e598b615579a40fdcdaaa6db9aba02).\\n*   [![](https://upload.wikimedia.org/wikipedia/commons/thumb/4/4c/CahnHilliard_OstwaldRipening.gif/320px-CahnHilliard_OstwaldRipening.gif)](https://en.wikipedia.org/wiki/File:CahnHilliard_OstwaldRipening.gif)\\n    \\n    Evolution of random initial data with ![{\\\\displaystyle \\\\gamma =0.5}](https://wikimedia.org/api/rest_v1/media/math/render/svg/4e119c17e92ec9fe2b3a23dadf74c1133834d263) and ![{\\\\displaystyle C=-0.2}](https://wikimedia.org/api/rest_v1/media/math/render/svg/aa3eb6035fdf82a005b8fe94de68ea7315f7e38c) (60/40 mix of the blue and red phases, respectively), demonstrating [Ostwald ripening](https://en.wikipedia.org/wiki/Ostwald_ripening \"Ostwald ripening\")\\n    \\n    When one phase is significantly more abundant, the Cahn–Hilliard equation can show the phenomenon known as [Ostwald ripening](https://en.wikipedia.org/wiki/Ostwald_ripening \"Ostwald ripening\"), where the minority phase forms spherical droplets, and the smaller droplets are absorbed through diffusion into the larger ones.\\n\\nThe Cahn–Hilliard equations finds applications in diverse fields: in complex fluids and soft matter (interfacial fluid flow, polymer science and in industrial applications). The solution of the Cahn–Hilliard equation for a binary mixture demonstrated to coincide well with the solution of a [Stefan problem](https://en.wikipedia.org/wiki/Stefan_problem \"Stefan problem\") and the model of Thomas and Windle.[\\\\[2\\\\]](#cite_note-2) Of interest to researchers at present is the coupling of the phase separation of the Cahn–Hilliard equation to the [Navier–Stokes equations](https://en.wikipedia.org/wiki/Navier%E2%80%93Stokes_equations \"Navier–Stokes equations\") of fluid flow.\\n\\n## See also\\\\[[edit](https://en.wikipedia.org/w/index.php?title=Cahn%E2%80%93Hilliard_equation&action=edit&section=2 \"Edit section: See also\")\\\\]\\n\\n*   [Allen–Cahn equation](https://en.wikipedia.org/wiki/Allen%E2%80%93Cahn_equation \"Allen–Cahn equation\")\\n*   [Spinodal decomposition](https://en.wikipedia.org/wiki/Spinodal_decomposition \"Spinodal decomposition\")\\n\\n## Further reading\\\\[[edit](https://en.wikipedia.org/w/index.php?title=Cahn%E2%80%93Hilliard_equation&action=edit&section=3 \"Edit section: Further reading\")\\\\]\\n\\n*   Cahn, John W.; Hilliard, John E. (1958). \"Free Energy of a Nonuniform System. I. Interfacial Free Energy\". _The Journal of Chemical Physics_. AIP Publishing. **28** (2): 258–267. [Bibcode](https://en.wikipedia.org/wiki/Bibcode_(identifier) \"Bibcode (identifier)\"):[1958JChPh..28..258C](https://ui.adsabs.harvard.edu/abs/1958JChPh..28..258C). [doi](https://en.wikipedia.org/wiki/Doi_(identifier) \"Doi (identifier)\"):[10.1063/1.1744102](https://doi.org/10.1063%2F1.1744102). [ISSN](https://en.wikipedia.org/wiki/ISSN_(identifier) \"ISSN (identifier)\")\\xa0[0021-9606](https://www.worldcat.org/issn/0021-9606).\\n*   Bray, A.J. (1994). \"Theory of phase-ordering kinetics\". _Advances in Physics_. **43** (3): 357–459. [arXiv](https://en.wikipedia.org/wiki/ArXiv_(identifier) \"ArXiv (identifier)\"):[cond-mat/9501089](https://arxiv.org/abs/cond-mat/9501089). [Bibcode](https://en.wikipedia.org/wiki/Bibcode_(identifier) \"Bibcode (identifier)\"):[1994AdPhy..43..357B](https://ui.adsabs.harvard.edu/abs/1994AdPhy..43..357B). [doi](https://en.wikipedia.org/wiki/Doi_(identifier) \"Doi (identifier)\"):[10.1080/00018739400101505](https://doi.org/10.1080%2F00018739400101505). [ISSN](https://en.wikipedia.org/wiki/ISSN_(identifier) \"ISSN (identifier)\")\\xa0[0001-8732](https://www.worldcat.org/issn/0001-8732). [S2CID](https://en.wikipedia.org/wiki/S2CID_(identifier) \"S2CID (identifier)\")\\xa0[83182](https://api.semanticscholar.org/CorpusID:83182).\\n*   Zhu, Jingzhi; Chen, Long-Qing; Shen, Jie; Tikare, Veena (1999-10-01). \"Coarsening kinetics from a variable-mobility Cahn-Hilliard equation: Application of a semi-implicit Fourier spectral method\". _Physical Review E_. American Physical Society (APS). **60** (4): 3564–3572. [Bibcode](https://en.wikipedia.org/wiki/Bibcode_(identifier) \"Bibcode (identifier)\"):[1999PhRvE..60.3564Z](https://ui.adsabs.harvard.edu/abs/1999PhRvE..60.3564Z). [doi](https://en.wikipedia.org/wiki/Doi_(identifier) \"Doi (identifier)\"):[10.1103/physreve.60.3564](https://doi.org/10.1103%2Fphysreve.60.3564). [ISSN](https://en.wikipedia.org/wiki/ISSN_(identifier) \"ISSN (identifier)\")\\xa0[1063-651X](https://www.worldcat.org/issn/1063-651X). [PMID](https://en.wikipedia.org/wiki/PMID_(identifier) \"PMID (identifier)\")\\xa0[11970189](https://pubmed.ncbi.nlm.nih.gov/11970189).\\n*   Elliott, Charles M.; Songmu, Zheng (1986). \"On the Cahn-Hilliard equation\". _Archive for Rational Mechanics and Analysis_. Springer Nature. **96** (4): 339–357. [Bibcode](https://en.wikipedia.org/wiki/Bibcode_(identifier) \"Bibcode (identifier)\"):[1986ArRMA..96..339E](https://ui.adsabs.harvard.edu/abs/1986ArRMA..96..339E). [doi](https://en.wikipedia.org/wiki/Doi_(identifier) \"Doi (identifier)\"):[10.1007/bf00251803](https://doi.org/10.1007%2Fbf00251803). [ISSN](https://en.wikipedia.org/wiki/ISSN_(identifier) \"ISSN (identifier)\")\\xa0[0003-9527](https://www.worldcat.org/issn/0003-9527). [S2CID](https://en.wikipedia.org/wiki/S2CID_(identifier) \"S2CID (identifier)\")\\xa0[56206640](https://api.semanticscholar.org/CorpusID:56206640).\\n*   Areias, P.; Samaniego, E.; Rabczuk, T. (2015-12-17). [\"A staggered approach for the coupling of Cahn–Hilliard type diffusion and finite strain elasticity\"](https://link.springer.com/article/10.1007/s00466-015-1235-1). _Computational Mechanics_. Springer Science and Business Media LLC. **57** (2): 339–351. [doi](https://en.wikipedia.org/wiki/Doi_(identifier) \"Doi (identifier)\"):[10.1007/s00466-015-1235-1](https://doi.org/10.1007%2Fs00466-015-1235-1). [ISSN](https://en.wikipedia.org/wiki/ISSN_(identifier) \"ISSN (identifier)\")\\xa0[0178-7675](https://www.worldcat.org/issn/0178-7675). [S2CID](https://en.wikipedia.org/wiki/S2CID_(identifier) \"S2CID (identifier)\")\\xa0[123982946](https://api.semanticscholar.org/CorpusID:123982946).\\n*   Hashimoto, Takeji; Matsuzaka, Katsuo; Moses, Elisha; Onuki, Akira (1995-01-02). \"String Phase in Phase-Separating Fluids under Shear Flow\". _Physical Review Letters_. American Physical Society (APS). **74** (1): 126–129. [Bibcode](https://en.wikipedia.org/wiki/Bibcode_(identifier) \"Bibcode (identifier)\"):[1995PhRvL..74..126H](https://ui.adsabs.harvard.edu/abs/1995PhRvL..74..126H). [doi](https://en.wikipedia.org/wiki/Doi_(identifier) \"Doi (identifier)\"):[10.1103/physrevlett.74.126](https://doi.org/10.1103%2Fphysrevlett.74.126). [ISSN](https://en.wikipedia.org/wiki/ISSN_(identifier) \"ISSN (identifier)\")\\xa0[0031-9007](https://www.worldcat.org/issn/0031-9007). [PMID](https://en.wikipedia.org/wiki/PMID_(identifier) \"PMID (identifier)\")\\xa0[10057715](https://pubmed.ncbi.nlm.nih.gov/10057715).\\n*   [T. Ursell, “Cahn–Hilliard Kinetics and Spinodal Decomposition in a Diffuse System,” California Institute of Technology (2007).](https://www.dropbox.com/s/k5f4m6w4qhsqdr2/spinodal.pdf?raw=1)\\n\\n## References\\\\[[edit](https://en.wikipedia.org/w/index.php?title=Cahn%E2%80%93Hilliard_equation&action=edit&section=4 \"Edit section: References\")\\\\]\\n\\n1.  **[^](#cite_ref-1 \"Jump up\")** Cahn, John W.; Hilliard, John E. (February 1958). [\"Free Energy of a Nonuniform System. I. Interfacial Free Energy\"](http://aip.scitation.org/doi/10.1063/1.1744102). _The Journal of Chemical Physics_. **28** (2): 258–267. [Bibcode](https://en.wikipedia.org/wiki/Bibcode_(identifier) \"Bibcode (identifier)\"):[1958JChPh..28..258C](https://ui.adsabs.harvard.edu/abs/1958JChPh..28..258C). [doi](https://en.wikipedia.org/wiki/Doi_(identifier) \"Doi (identifier)\"):[10.1063/1.1744102](https://doi.org/10.1063%2F1.1744102). [ISSN](https://en.wikipedia.org/wiki/ISSN_(identifier) \"ISSN (identifier)\")\\xa0[0021-9606](https://www.worldcat.org/issn/0021-9606).\\n2.  **[^](#cite_ref-2 \"Jump up\")** Vermolen, F. J.; Gharasoo, M. G.; Zitha, P. L. J.; Bruining, J. (2009). \"Numerical Solutions of Some Diffuse Interface Problems: The Cahn–Hilliard Equation and the Model of Thomas and Windle\". _International Journal for Multiscale Computational Engineering_. **7** (6): 523–543. [doi](https://en.wikipedia.org/wiki/Doi_(identifier) \"Doi (identifier)\"):[10.1615/IntJMultCompEng.v7.i6.40](https://doi.org/10.1615%2FIntJMultCompEng.v7.i6.40).'}\n"
     ]
    }
   ],
   "source": [
    "# Initalize apify client\n",
    "client = ApifyClient(APIFY_API_KEY)\n",
    "\n",
    "user_query = input(\"Enter user query here: \")\n",
    "\n",
    "# prepare google search actor input\n",
    "run_input = {\n",
    "      \"queries\": user_query,\n",
    "      \"maxPagesPerQuery\": 1,\n",
    "      \"resultsPerPage\": 5,\n",
    "      \"mobileResults\": False,\n",
    "      \"languageCode\": \"\",\n",
    "      \"maxConcurrency\": 10,\n",
    "      \"saveHtml\": False,\n",
    "      \"saveHtmlToKeyValueStore\": False,\n",
    "      \"includeUnfilteredResults\": False,\n",
    "      \"customDataFunction\": \"\"\"async ({ input, $, request, response, html }) => {\n",
    "    return {\n",
    "      pageTitle: $('title').text(),\n",
    "    };\n",
    "  };\"\"\",\n",
    "}\n",
    "\n",
    "# Run\n",
    "run = client.actor(\"nFJndFXA5zjCTuudP\").call(run_input=run_input)\n",
    "\n",
    "url_list = []\n",
    "\n",
    "# Creating a url list of websites for content crawling\n",
    "for item in client.dataset(run[\"defaultDatasetId\"]).list_items().items[0]['organicResults']:\n",
    "   url_list.append(item['url'])\n",
    "\n",
    "# prepare website content crawler actor input\n",
    "# for now only scraping the first link\n",
    "content_crawler_input = {\n",
    "    \"startUrls\": [{ \"url\": url_list[0]}],\n",
    "    \"useSitemaps\": False,\n",
    "    \"crawlerType\": \"playwright:firefox\",\n",
    "    \"includeUrlGlobs\": [],\n",
    "    \"excludeUrlGlobs\": [],\n",
    "    \"ignoreCanonicalUrl\": False,\n",
    "    \"maxCrawlDepth\": 20,\n",
    "    \"maxCrawlPages\": 10,\n",
    "    \"initialConcurrency\": 0,\n",
    "    \"maxConcurrency\": 200,\n",
    "    \"initialCookies\": [],\n",
    "    \"proxyConfiguration\": { \"useApifyProxy\": True },\n",
    "    \"maxSessionRotations\": 10,\n",
    "    \"maxRequestRetries\": 3,\n",
    "    \"requestTimeoutSecs\": 60,\n",
    "    \"dynamicContentWaitSecs\": 10,\n",
    "    \"maxScrollHeightPixels\": 5000,\n",
    "    \"removeElementsCssSelector\": \"\"\"nav, footer, script, style, noscript, svg,\n",
    "[role=\\\"alert\\\"],\n",
    "[role=\\\"banner\\\"],\n",
    "[role=\\\"dialog\\\"],\n",
    "[role=\\\"alertdialog\\\"],\n",
    "[role=\\\"region\\\"][aria-label*=\\\"skip\\\" i],\n",
    "[aria-modal=\\\"true\\\"]\"\"\",\n",
    "    \"removeCookieWarnings\": True,\n",
    "    \"clickElementsCssSelector\": \"[aria-expanded=\\\"false\\\"]\",\n",
    "    \"htmlTransformer\": \"readableText\",\n",
    "    \"readableTextCharThreshold\": 100,\n",
    "    \"aggressivePrune\": False,\n",
    "    \"debugMode\": False,\n",
    "    \"debugLog\": False,\n",
    "    \"saveHtml\": False,\n",
    "    \"saveMarkdown\": True,\n",
    "    \"saveFiles\": False,\n",
    "    \"saveScreenshots\": False,\n",
    "    \"maxResults\": 9999999,\n",
    "    \"clientSideMinChangePercentage\": 15,\n",
    "    \"renderingTypeDetectionPercentage\": 10,\n",
    "}\n",
    "\n",
    "# Run the content crawler actor and wait for it to finish\n",
    "website_content_crawler = client.actor(\"aYG0l9s7dbB7j3gbS\").call(run_input= content_crawler_input)\n",
    "\n",
    "# Fetch and print Actor results from the run's dataset (if there are any)\n",
    "for item in client.dataset(website_content_crawler[\"defaultDatasetId\"]).iterate_items():\n",
    "    print(item)"
   ]
  },
  {
   "cell_type": "code",
   "execution_count": 4,
   "metadata": {},
   "outputs": [],
   "source": [
    "# Loads the dataset into langchain document format\n",
    "from langchain_community.document_loaders import ApifyDatasetLoader\n",
    "from langchain_community.document_loaders.base import Document\n",
    "\n",
    "loader = ApifyDatasetLoader(\n",
    "    dataset_id= website_content_crawler[\"defaultDatasetId\"],\n",
    "    dataset_mapping_function=lambda dataset_item: Document(\n",
    "        page_content=dataset_item[\"text\"], metadata={\"source\": dataset_item[\"url\"]}\n",
    "    ),\n",
    ")\n",
    "\n",
    "docs = loader.load()\n",
    "\n",
    "documents = RecursiveCharacterTextSplitter(\n",
    "    chunk_size=1000, chunk_overlap=200\n",
    ").split_documents(docs)\n",
    "\n",
    "# Stores in FAISS vector\n",
    "vector = FAISS.from_documents(documents, OpenAIEmbeddings())"
   ]
  },
  {
   "cell_type": "code",
   "execution_count": 5,
   "metadata": {},
   "outputs": [
    {
     "data": {
      "text/plain": [
       "[Document(page_content='From Wikipedia, the free encyclopedia\\nThe Cahn–Hilliard equation (after John W. Cahn and John E. Hilliard)[1] is an equation of mathematical physics which describes the process of phase separation, by which the two components of a binary fluid spontaneously separate and form domains pure in each component. If is the concentration of the fluid, with indicating domains, then the equation is written as \\nwhere is a diffusion coefficient with units of and gives the length of the transition regions between the domains. Here is the partial time derivative and is the Laplacian in dimensions. Additionally, the quantity is identified as a chemical potential. \\nRelated to it is the Allen–Cahn equation, as well as the stochastic Cahn–Hilliard Equation and the stochastic Allen–Cahn equation. \\nFeatures and applications[edit]', metadata={'source': 'https://en.wikipedia.org/wiki/Cahn%E2%80%93Hilliard_equation'}),\n",
       " Document(page_content='Related to it is the Allen–Cahn equation, as well as the stochastic Cahn–Hilliard Equation and the stochastic Allen–Cahn equation. \\nFeatures and applications[edit]\\nOf interest to mathematicians is the existence of a unique solution of the Cahn–Hilliard equation, given by smooth initial data. The proof relies essentially on the existence of a Lyapunov functional. Specifically, if we identify \\nas a free energy functional, then \\nso that the free energy does not grow in time. This also indicates segregation into domains is the asymptotic outcome of the evolution of this equation. \\nIn real experiments, the segregation of an initially mixed binary fluid into domains is observed. The segregation is characterized by the following facts. \\nEvolution of random initial data under the Cahn–Hilliard equation with and (equal amounts of each phase), demonstrating phase separation.', metadata={'source': 'https://en.wikipedia.org/wiki/Cahn%E2%80%93Hilliard_equation'}),\n",
       " Document(page_content='Evolution of random initial data under the Cahn–Hilliard equation with and (equal amounts of each phase), demonstrating phase separation. \\nThere is a transition layer between the segregated domains, with a profile given by the function and hence a typical width because this function is an equilibrium solution of the Cahn–Hilliard equation.\\nOf interest also is the fact that the segregated domains grow in time as a power law. That is, if is a typical domain size, then . This is the Lifshitz–Slyozov law, and has been proved rigorously for the Cahn–Hilliard equation and observed in numerical simulations and real experiments on binary fluids.\\nThe Cahn–Hilliard equation has the form of a conservation law, with . Thus the phase separation process conserves the total concentration , so that .', metadata={'source': 'https://en.wikipedia.org/wiki/Cahn%E2%80%93Hilliard_equation'}),\n",
       " Document(page_content='The Cahn–Hilliard equation has the form of a conservation law, with . Thus the phase separation process conserves the total concentration , so that .\\nEvolution of random initial data with and (60/40 mix of the blue and red phases, respectively), demonstrating Ostwald ripeningWhen one phase is significantly more abundant, the Cahn–Hilliard equation can show the phenomenon known as Ostwald ripening, where the minority phase forms spherical droplets, and the smaller droplets are absorbed through diffusion into the larger ones.', metadata={'source': 'https://en.wikipedia.org/wiki/Cahn%E2%80%93Hilliard_equation'}),\n",
       " Document(page_content='The Cahn–Hilliard equations finds applications in diverse fields: in complex fluids and soft matter (interfacial fluid flow, polymer science and in industrial applications). The solution of the Cahn–Hilliard equation for a binary mixture demonstrated to coincide well with the solution of a Stefan problem and the model of Thomas and Windle.[2] Of interest to researchers at present is the coupling of the phase separation of the Cahn–Hilliard equation to the Navier–Stokes equations of fluid flow. \\nSee also[edit]\\nAllen–Cahn equation\\nSpinodal decomposition\\nFurther reading[edit]\\nCahn, John W.; Hilliard, John E. (1958). \"Free Energy of a Nonuniform System. I. Interfacial Free Energy\". The Journal of Chemical Physics. AIP Publishing. 28 (2): 258–267. Bibcode:1958JChPh..28..258C. doi:10.1063/1.1744102. ISSN 0021-9606.', metadata={'source': 'https://en.wikipedia.org/wiki/Cahn%E2%80%93Hilliard_equation'}),\n",
       " Document(page_content='Bray, A.J. (1994). \"Theory of phase-ordering kinetics\". Advances in Physics. 43 (3): 357–459. arXiv:cond-mat/9501089. Bibcode:1994AdPhy..43..357B. doi:10.1080/00018739400101505. ISSN 0001-8732. S2CID 83182.\\nZhu, Jingzhi; Chen, Long-Qing; Shen, Jie; Tikare, Veena (1999-10-01). \"Coarsening kinetics from a variable-mobility Cahn-Hilliard equation: Application of a semi-implicit Fourier spectral method\". Physical Review E. American Physical Society (APS). 60 (4): 3564–3572. Bibcode:1999PhRvE..60.3564Z. doi:10.1103/physreve.60.3564. ISSN 1063-651X. PMID 11970189.\\nElliott, Charles M.; Songmu, Zheng (1986). \"On the Cahn-Hilliard equation\". Archive for Rational Mechanics and Analysis. Springer Nature. 96 (4): 339–357. Bibcode:1986ArRMA..96..339E. doi:10.1007/bf00251803. ISSN 0003-9527. S2CID 56206640.', metadata={'source': 'https://en.wikipedia.org/wiki/Cahn%E2%80%93Hilliard_equation'}),\n",
       " Document(page_content='Areias, P.; Samaniego, E.; Rabczuk, T. (2015-12-17). \"A staggered approach for the coupling of Cahn–Hilliard type diffusion and finite strain elasticity\". Computational Mechanics. Springer Science and Business Media LLC. 57 (2): 339–351. doi:10.1007/s00466-015-1235-1. ISSN 0178-7675. S2CID 123982946.\\nHashimoto, Takeji; Matsuzaka, Katsuo; Moses, Elisha; Onuki, Akira (1995-01-02). \"String Phase in Phase-Separating Fluids under Shear Flow\". Physical Review Letters. American Physical Society (APS). 74 (1): 126–129. Bibcode:1995PhRvL..74..126H. doi:10.1103/physrevlett.74.126. ISSN 0031-9007. PMID 10057715.\\nT. Ursell, “Cahn–Hilliard Kinetics and Spinodal Decomposition in a Diffuse System,” California Institute of Technology (2007).\\nReferences[edit]\\n^ Cahn, John W.; Hilliard, John E. (February 1958). \"Free Energy of a Nonuniform System. I. Interfacial Free Energy\". The Journal of Chemical Physics. 28 (2): 258–267. Bibcode:1958JChPh..28..258C. doi:10.1063/1.1744102. ISSN 0021-9606.', metadata={'source': 'https://en.wikipedia.org/wiki/Cahn%E2%80%93Hilliard_equation'}),\n",
       " Document(page_content='^ Vermolen, F. J.; Gharasoo, M. G.; Zitha, P. L. J.; Bruining, J. (2009). \"Numerical Solutions of Some Diffuse Interface Problems: The Cahn–Hilliard Equation and the Model of Thomas and Windle\". International Journal for Multiscale Computational Engineering. 7 (6): 523–543. doi:10.1615/IntJMultCompEng.v7.i6.40.', metadata={'source': 'https://en.wikipedia.org/wiki/Cahn%E2%80%93Hilliard_equation'})]"
      ]
     },
     "execution_count": 5,
     "metadata": {},
     "output_type": "execute_result"
    }
   ],
   "source": [
    "documents"
   ]
  },
  {
   "cell_type": "code",
   "execution_count": 6,
   "metadata": {},
   "outputs": [
    {
     "name": "stderr",
     "output_type": "stream",
     "text": [
      "/Library/Frameworks/Python.framework/Versions/3.11/lib/python3.11/site-packages/langchain_core/_api/deprecation.py:117: LangChainDeprecationWarning: The class `langchain_community.embeddings.openai.OpenAIEmbeddings` was deprecated in langchain-community 0.1.0 and will be removed in 0.2.0. An updated version of the class exists in the langchain-openai package and should be used instead. To use it run `pip install -U langchain-openai` and import as `from langchain_openai import OpenAIEmbeddings`.\n",
      "  warn_deprecated(\n"
     ]
    },
    {
     "name": "stdout",
     "output_type": "stream",
     "text": [
      " The Cahn-Hilliard equation is a mathematical model used to describe the segregation of binary fluids into domains, with the segregated domains growing in time as a power law. The equation has been studied extensively and has been observed in real experiments and numerical simulations. It has also been applied to other fields, such as elasticity and fluid dynamics. \n",
      "https://en.wikipedia.org/wiki/Cahn%E2%80%93Hilliard_equation\n"
     ]
    }
   ],
   "source": [
    "from langchain.indexes import VectorstoreIndexCreator\n",
    "\n",
    "index = VectorstoreIndexCreator().from_loaders([loader])\n",
    "\n",
    "# Code for getting summaries from our dataset\n",
    "user_query = input(\"Enter user query: \")\n",
    "result = index.query_with_sources(user_query)\n",
    "\n",
    "print(result[\"answer\"])\n",
    "print(result[\"sources\"])"
   ]
  }
 ],
 "metadata": {
  "kernelspec": {
   "display_name": "datascout.venv",
   "language": "python",
   "name": "python3"
  },
  "language_info": {
   "codemirror_mode": {
    "name": "ipython",
    "version": 3
   },
   "file_extension": ".py",
   "mimetype": "text/x-python",
   "name": "python",
   "nbconvert_exporter": "python",
   "pygments_lexer": "ipython3",
   "version": "3.11.1"
  },
  "orig_nbformat": 4
 },
 "nbformat": 4,
 "nbformat_minor": 2
}
